{
 "cells": [
  {
   "cell_type": "code",
   "execution_count": 1,
   "id": "9078b8aa",
   "metadata": {},
   "outputs": [],
   "source": [
    "from pyspark.sql import SparkSession,types,functions"
   ]
  },
  {
   "cell_type": "code",
   "execution_count": 2,
   "id": "00f67735",
   "metadata": {},
   "outputs": [],
   "source": [
    "spark = (SparkSession.builder.appName('PySpark-Project').getOrCreate())"
   ]
  },
  {
   "cell_type": "code",
   "execution_count": 3,
   "id": "c2a07b1a",
   "metadata": {},
   "outputs": [
    {
     "data": {
      "text/html": [
       "<div>\n",
       "<style scoped>\n",
       "    .dataframe tbody tr th:only-of-type {\n",
       "        vertical-align: middle;\n",
       "    }\n",
       "\n",
       "    .dataframe tbody tr th {\n",
       "        vertical-align: top;\n",
       "    }\n",
       "\n",
       "    .dataframe thead th {\n",
       "        text-align: right;\n",
       "    }\n",
       "</style>\n",
       "<table border=\"1\" class=\"dataframe\">\n",
       "  <thead>\n",
       "    <tr style=\"text-align: right;\">\n",
       "      <th></th>\n",
       "      <th>order_date</th>\n",
       "      <th>order_id</th>\n",
       "      <th>product</th>\n",
       "      <th>product_id</th>\n",
       "      <th>category</th>\n",
       "      <th>purchase_address</th>\n",
       "      <th>quantity_ordered</th>\n",
       "      <th>price_each</th>\n",
       "      <th>cost_price</th>\n",
       "      <th>turnover</th>\n",
       "      <th>margin</th>\n",
       "    </tr>\n",
       "  </thead>\n",
       "  <tbody>\n",
       "    <tr>\n",
       "      <th>0</th>\n",
       "      <td>2023-01-22 21:25:00</td>\n",
       "      <td>141234</td>\n",
       "      <td>iPhone</td>\n",
       "      <td>5.638009e+12</td>\n",
       "      <td>Vêtements</td>\n",
       "      <td>944 Walnut St, Boston, MA 02215</td>\n",
       "      <td>1</td>\n",
       "      <td>700.00</td>\n",
       "      <td>231.0000</td>\n",
       "      <td>700.00</td>\n",
       "      <td>469.0000</td>\n",
       "    </tr>\n",
       "    <tr>\n",
       "      <th>1</th>\n",
       "      <td>2023-01-28 14:15:00</td>\n",
       "      <td>141235</td>\n",
       "      <td>Lightning Charging Cable</td>\n",
       "      <td>5.563320e+12</td>\n",
       "      <td>Alimentation</td>\n",
       "      <td>185 Maple St, Portland, OR 97035</td>\n",
       "      <td>1</td>\n",
       "      <td>14.95</td>\n",
       "      <td>7.4750</td>\n",
       "      <td>14.95</td>\n",
       "      <td>7.4750</td>\n",
       "    </tr>\n",
       "    <tr>\n",
       "      <th>2</th>\n",
       "      <td>2023-01-17 13:33:00</td>\n",
       "      <td>141236</td>\n",
       "      <td>Wired Headphones</td>\n",
       "      <td>2.113973e+12</td>\n",
       "      <td>Vêtements</td>\n",
       "      <td>538 Adams St, San Francisco, CA 94016</td>\n",
       "      <td>2</td>\n",
       "      <td>11.99</td>\n",
       "      <td>5.9950</td>\n",
       "      <td>23.98</td>\n",
       "      <td>11.9900</td>\n",
       "    </tr>\n",
       "    <tr>\n",
       "      <th>3</th>\n",
       "      <td>2023-01-05 20:33:00</td>\n",
       "      <td>141237</td>\n",
       "      <td>27in FHD Monitor</td>\n",
       "      <td>3.069157e+12</td>\n",
       "      <td>Sports</td>\n",
       "      <td>738 10th St, Los Angeles, CA 90001</td>\n",
       "      <td>1</td>\n",
       "      <td>149.99</td>\n",
       "      <td>97.4935</td>\n",
       "      <td>149.99</td>\n",
       "      <td>52.4965</td>\n",
       "    </tr>\n",
       "    <tr>\n",
       "      <th>4</th>\n",
       "      <td>2023-01-25 11:59:00</td>\n",
       "      <td>141238</td>\n",
       "      <td>Wired Headphones</td>\n",
       "      <td>9.692681e+12</td>\n",
       "      <td>Électronique</td>\n",
       "      <td>387 10th St, Austin, TX 73301</td>\n",
       "      <td>1</td>\n",
       "      <td>11.99</td>\n",
       "      <td>5.9950</td>\n",
       "      <td>11.99</td>\n",
       "      <td>5.9950</td>\n",
       "    </tr>\n",
       "  </tbody>\n",
       "</table>\n",
       "</div>"
      ],
      "text/plain": [
       "           order_date  order_id                   product    product_id  \\\n",
       "0 2023-01-22 21:25:00    141234                    iPhone  5.638009e+12   \n",
       "1 2023-01-28 14:15:00    141235  Lightning Charging Cable  5.563320e+12   \n",
       "2 2023-01-17 13:33:00    141236          Wired Headphones  2.113973e+12   \n",
       "3 2023-01-05 20:33:00    141237          27in FHD Monitor  3.069157e+12   \n",
       "4 2023-01-25 11:59:00    141238          Wired Headphones  9.692681e+12   \n",
       "\n",
       "       category                       purchase_address  quantity_ordered  \\\n",
       "0     Vêtements        944 Walnut St, Boston, MA 02215                 1   \n",
       "1  Alimentation       185 Maple St, Portland, OR 97035                 1   \n",
       "2     Vêtements  538 Adams St, San Francisco, CA 94016                 2   \n",
       "3        Sports     738 10th St, Los Angeles, CA 90001                 1   \n",
       "4  Électronique          387 10th St, Austin, TX 73301                 1   \n",
       "\n",
       "   price_each  cost_price  turnover    margin  \n",
       "0      700.00    231.0000    700.00  469.0000  \n",
       "1       14.95      7.4750     14.95    7.4750  \n",
       "2       11.99      5.9950     23.98   11.9900  \n",
       "3      149.99     97.4935    149.99   52.4965  \n",
       "4       11.99      5.9950     11.99    5.9950  "
      ]
     },
     "execution_count": 3,
     "metadata": {},
     "output_type": "execute_result"
    }
   ],
   "source": [
    "orders_data = spark.read.parquet('orders_data.parquet')\n",
    "orders_data.toPandas().head()"
   ]
  },
  {
   "cell_type": "code",
   "execution_count": 4,
   "id": "1dfa1aa5",
   "metadata": {},
   "outputs": [
    {
     "name": "stdout",
     "output_type": "stream",
     "text": [
      "root\n",
      " |-- order_date: timestamp_ntz (nullable = true)\n",
      " |-- order_id: long (nullable = true)\n",
      " |-- product: string (nullable = true)\n",
      " |-- product_id: double (nullable = true)\n",
      " |-- category: string (nullable = true)\n",
      " |-- purchase_address: string (nullable = true)\n",
      " |-- quantity_ordered: long (nullable = true)\n",
      " |-- price_each: double (nullable = true)\n",
      " |-- cost_price: double (nullable = true)\n",
      " |-- turnover: double (nullable = true)\n",
      " |-- margin: double (nullable = true)\n",
      "\n"
     ]
    }
   ],
   "source": [
    "orders_data.printSchema()"
   ]
  },
  {
   "cell_type": "code",
   "execution_count": null,
   "id": "780789f3",
   "metadata": {},
   "outputs": [],
   "source": [
    "#Criação de uma coluna para informar em qual parte do dia foi feito o pedido\n",
    "orders_data = (         \n",
    "    orders_data\n",
    "    .withColumn(\n",
    "        'time_of_day',\n",
    "        functions.when((functions.hour('order_date') >= 0)& (functions.hour('order_date')<=5),'night')\n",
    "        .when((functions.hour('order_date')>= 6)& (functions.hour('order_date')<=11),'morning')\n",
    "        .when((functions.hour('order_date')>=12) & (functions.hour('order_date')<=17),'afternoon')\n",
    "        .when((functions.hour('order_date')>=18)& (functions.hour('order_date')<=23),'evening')\n",
    "        .otherwise(None)\n",
    "    )\n",
    "    #Após criar a coluna extra para identificar o periodo do pedido, criaremos o filtro\n",
    "    .filter(functions.col('time_of_day')!='night')\n",
    "\n",
    "    #Agora podemos alterar o tipo do dado\n",
    "    .withColumn('order_date',functions.col('order_date').cast(types.DateType()))\n",
    "\n",
    ")\n",
    "\n"
   ]
  },
  {
   "cell_type": "code",
   "execution_count": null,
   "id": "38e33f03",
   "metadata": {},
   "outputs": [
    {
     "name": "stdout",
     "output_type": "stream",
     "text": [
      "+----------+--------+--------------------+-----------------+------------+--------------------+----------------+----------+------------------+--------+--------+-----------+\n",
      "|order_date|order_id|             product|       product_id|    category|    purchase_address|quantity_ordered|price_each|        cost_price|turnover|  margin|time_of_day|\n",
      "+----------+--------+--------------------+-----------------+------------+--------------------+----------------+----------+------------------+--------+--------+-----------+\n",
      "|2023-01-22|  141234|              iPhone|5.638008983335E12|   Vêtements|944 Walnut St, Bo...|               1|     700.0|             231.0|   700.0|   469.0|    evening|\n",
      "|2023-01-28|  141235|Lightning Chargin...|5.563319511488E12|Alimentation|185 Maple St, Por...|               1|     14.95|             7.475|   14.95|   7.475|  afternoon|\n",
      "|2023-01-17|  141236|    Wired Headphones| 2.11397339522E12|   Vêtements|538 Adams St, San...|               2|     11.99|             5.995|   23.98|   11.99|  afternoon|\n",
      "|2023-01-05|  141237|    27in FHD Monitor|3.069156759167E12|      Sports|738 10th St, Los ...|               1|    149.99|           97.4935|  149.99| 52.4965|    evening|\n",
      "|2023-01-25|  141238|    Wired Headphones|9.692680938163E12|Électronique|387 10th St, Aust...|               1|     11.99|             5.995|   11.99|   5.995|    morning|\n",
      "|2023-01-29|  141239|AAA Batteries (4-...|2.953868554188E12|Alimentation|775 Willow St, Sa...|               1|      2.99|             1.495|    2.99|   1.495|    evening|\n",
      "|2023-01-26|  141240|27in 4K Gaming Mo...|5.173670800988E12|   Vêtements|979 Park St, Los ...|               1|    389.99|128.69670000000002|  389.99|261.2933|  afternoon|\n",
      "|2023-01-05|  141241|USB-C Charging Cable|8.051736777568E12|   Vêtements|181 6th St, San F...|               1|     11.95|             5.975|   11.95|   5.975|  afternoon|\n",
      "|2023-01-01|  141242|Bose SoundSport H...|1.508418177978E12|Électronique|867 Willow St, Lo...|               1|     99.99|            49.995|   99.99|  49.995|    morning|\n",
      "|2023-01-22|  141243|Apple Airpods Hea...| 1.38634421159E12|Électronique|657 Johnson St, S...|               1|     150.0|              97.5|   150.0|    52.5|    evening|\n",
      "|2023-01-07|  141244|Apple Airpods Hea...|4.332898830865E12|   Vêtements|492 Walnut St, Sa...|               1|     150.0|              97.5|   150.0|    52.5|    morning|\n",
      "|2023-01-31|  141245|  Macbook Pro Laptop|1.169379570345E12|   Vêtements|322 6th St, San F...|               1|    1700.0|             561.0|  1700.0|  1139.0|    morning|\n",
      "|2023-01-09|  141246|AAA Batteries (4-...|4.436184749366E12|   Vêtements|618 7th St, Los A...|               3|      2.99|             1.495|    8.97|   4.485|    evening|\n",
      "|2023-01-25|  141247|    27in FHD Monitor|7.313825995563E12|   Vêtements|512 Wilson St, Sa...|               1|    149.99|           97.4935|  149.99| 52.4965|    evening|\n",
      "|2023-01-03|  141248|       Flatscreen TV| 4.06275646306E12|Électronique|363 Spruce St, Au...|               1|     300.0|              99.0|   300.0|   201.0|    evening|\n",
      "|2023-01-05|  141249|    27in FHD Monitor|9.643428300795E12|Alimentation|440 Cedar St, Por...|               1|    149.99|           97.4935|  149.99| 52.4965|  afternoon|\n",
      "|2023-01-10|  141250|     Vareebadd Phone|6.721780072847E12|Alimentation|471 Center St, Lo...|               1|     400.0|             132.0|   400.0|   268.0|    morning|\n",
      "|2023-01-24|  141251|Apple Airpods Hea...|2.700099961823E12|Alimentation|414 Walnut St, Bo...|               1|     150.0|              97.5|   150.0|    52.5|    morning|\n",
      "|2023-01-30|  141252|USB-C Charging Cable|3.692435232121E12|      Sports|220 9th St, Los A...|               1|     11.95|             5.975|   11.95|   5.975|    morning|\n",
      "|2023-01-08|  141254|AAA Batteries (4-...|8.219536039183E12|Électronique|238 Sunset St, Se...|               1|      2.99|             1.495|    2.99|   1.495|    morning|\n",
      "+----------+--------+--------------------+-----------------+------------+--------------------+----------------+----------+------------------+--------+--------+-----------+\n",
      "only showing top 20 rows\n"
     ]
    }
   ],
   "source": [
    "#Visualização após criação da nova coluna\n",
    "orders_data.show()"
   ]
  },
  {
   "cell_type": "code",
   "execution_count": 7,
   "id": "c9c2f18e",
   "metadata": {},
   "outputs": [
    {
     "name": "stdout",
     "output_type": "stream",
     "text": [
      "+------------+\n",
      "|    category|\n",
      "+------------+\n",
      "|Électronique|\n",
      "|      Sports|\n",
      "|   Vêtements|\n",
      "|Alimentation|\n",
      "+------------+\n",
      "\n"
     ]
    }
   ],
   "source": [
    "orders_data.select('category').distinct().show()"
   ]
  },
  {
   "cell_type": "code",
   "execution_count": 8,
   "id": "0d977d3a",
   "metadata": {},
   "outputs": [],
   "source": [
    "#Removendo TV's da tabela já que a loja não comercializa mais e garantindo todos os dados em minúsculo\n",
    "orders_data = (\n",
    "    orders_data\n",
    "    .withColumn('product',functions.lower('product'))\n",
    "    .withColumn('category',functions.lower('category'))\n",
    "    .filter(~functions.col('product').contains('tv'))\n",
    ")"
   ]
  },
  {
   "cell_type": "code",
   "execution_count": null,
   "id": "2aaf2895",
   "metadata": {},
   "outputs": [],
   "source": [
    "#Coluna para informar de onde foi feito o pedido e qual o destino do pedido\n",
    "orders_data = (\n",
    "    orders_data\n",
    "    .withColumn('address_split',functions.split('purchase_address',' '))\n",
    "    .withColumn('purchase_state',functions.col('address_split').getItem(functions.size('address_split')-2))\n",
    "    .drop('address_split')\n",
    "\n",
    ")"
   ]
  },
  {
   "cell_type": "code",
   "execution_count": null,
   "id": "986769db",
   "metadata": {},
   "outputs": [
    {
     "name": "stdout",
     "output_type": "stream",
     "text": [
      "+--------------+-----+\n",
      "|purchase_state|count|\n",
      "+--------------+-----+\n",
      "|            CA|68292|\n",
      "|            NY|22831|\n",
      "|            TX|22773|\n",
      "|            MA|18360|\n",
      "|            GA|13624|\n",
      "|            WA|13592|\n",
      "|            OR| 9186|\n",
      "|            ME| 2263|\n",
      "+--------------+-----+\n",
      "\n"
     ]
    }
   ],
   "source": [
    "#Conferindo quantidade de pedidos por estado\n",
    "n_states = orders_data.groupBy(\"purchase_state\").count().orderBy(functions.desc(\"count\"))\n",
    "n_states.show()"
   ]
  },
  {
   "cell_type": "code",
   "execution_count": null,
   "id": "2871529d",
   "metadata": {},
   "outputs": [],
   "source": [
    "#Exportar os dados tratados\n",
    "(\n",
    "    orders_data\n",
    "    .write\n",
    "    .parquet('orders_data_clean.parquet',mode='overwrite')\n",
    ")"
   ]
  }
 ],
 "metadata": {
  "kernelspec": {
   "display_name": "Python 3",
   "language": "python",
   "name": "python3"
  },
  "language_info": {
   "codemirror_mode": {
    "name": "ipython",
    "version": 3
   },
   "file_extension": ".py",
   "mimetype": "text/x-python",
   "name": "python",
   "nbconvert_exporter": "python",
   "pygments_lexer": "ipython3",
   "version": "3.12.5"
  }
 },
 "nbformat": 4,
 "nbformat_minor": 5
}
